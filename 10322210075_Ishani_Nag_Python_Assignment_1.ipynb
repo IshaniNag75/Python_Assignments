{
  "nbformat": 4,
  "nbformat_minor": 0,
  "metadata": {
    "colab": {
      "provenance": [],
      "include_colab_link": true
    },
    "kernelspec": {
      "name": "python3",
      "display_name": "Python 3"
    },
    "language_info": {
      "name": "python"
    }
  },
  "cells": [
    {
      "cell_type": "markdown",
      "metadata": {
        "id": "view-in-github",
        "colab_type": "text"
      },
      "source": [
        "<a href=\"https://colab.research.google.com/github/IshaniNag75/Python_Assignments/blob/main/10322210075_Ishani_Nag_Python_Assignment_1.ipynb\" target=\"_parent\"><img src=\"https://colab.research.google.com/assets/colab-badge.svg\" alt=\"Open In Colab\"/></a>"
      ]
    },
    {
      "cell_type": "code",
      "execution_count": null,
      "metadata": {
        "colab": {
          "base_uri": "https://localhost:8080/"
        },
        "id": "cvLUT0AaYql1",
        "outputId": "c8f460e4-a87b-49d4-f85a-f8ed25dd278e"
      },
      "outputs": [
        {
          "output_type": "stream",
          "name": "stdout",
          "text": [
            "['A', 'C', 'A', 'D', 'G', 'I', 'L', 'D']\n"
          ]
        }
      ],
      "source": [
        "list1 = [char for char in 'ACADGILD']\n",
        "print(list1)"
      ]
    },
    {
      "cell_type": "code",
      "source": [
        "list2 = [char * num for char in 'xyz' for num in range(1, 5)]\n",
        "print(list2)"
      ],
      "metadata": {
        "colab": {
          "base_uri": "https://localhost:8080/"
        },
        "id": "zijxkXcpZb74",
        "outputId": "b135f299-84d9-4137-c422-e208157bd6af"
      },
      "execution_count": null,
      "outputs": [
        {
          "output_type": "stream",
          "name": "stdout",
          "text": [
            "['x', 'xx', 'xxx', 'xxxx', 'y', 'yy', 'yyy', 'yyyy', 'z', 'zz', 'zzz', 'zzzz']\n"
          ]
        }
      ]
    },
    {
      "cell_type": "code",
      "source": [
        "list3 = [char * num for num in range(1, 5) for char in 'xyz']\n",
        "print(list3)"
      ],
      "metadata": {
        "colab": {
          "base_uri": "https://localhost:8080/"
        },
        "id": "6KaAiAnfZo3A",
        "outputId": "67246ad6-20a3-4058-845e-00371d2611ad"
      },
      "execution_count": null,
      "outputs": [
        {
          "output_type": "stream",
          "name": "stdout",
          "text": [
            "['x', 'y', 'z', 'xx', 'yy', 'zz', 'xxx', 'yyy', 'zzz', 'xxxx', 'yyyy', 'zzzz']\n"
          ]
        }
      ]
    },
    {
      "cell_type": "code",
      "source": [
        "list4 = [[num + i] for num in range(2, 5) for i in range(3)] + [[num + i for num in range(2, 6)] for i in range(4)]\n",
        "print(list4)"
      ],
      "metadata": {
        "colab": {
          "base_uri": "https://localhost:8080/"
        },
        "id": "OlwF7zwhZ5_1",
        "outputId": "1017c7c1-627e-4a1e-9a4c-4cb52aab5f9c"
      },
      "execution_count": null,
      "outputs": [
        {
          "output_type": "stream",
          "name": "stdout",
          "text": [
            "[[2], [3], [4], [3], [4], [5], [4], [5], [6], [2, 3, 4, 5], [3, 4, 5, 6], [4, 5, 6, 7], [5, 6, 7, 8]]\n"
          ]
        }
      ]
    },
    {
      "cell_type": "code",
      "source": [
        "list5 = [(j, i) for i in range(1, 4) for j in range(1, 4)]\n",
        "print(list5)"
      ],
      "metadata": {
        "colab": {
          "base_uri": "https://localhost:8080/"
        },
        "id": "cmJlFN44Z-s1",
        "outputId": "781e6767-b153-432d-c85c-cf45c5412bf4"
      },
      "execution_count": null,
      "outputs": [
        {
          "output_type": "stream",
          "name": "stdout",
          "text": [
            "[(1, 1), (2, 1), (3, 1), (1, 2), (2, 2), (3, 2), (1, 3), (2, 3), (3, 3)]\n"
          ]
        }
      ]
    },
    {
      "cell_type": "code",
      "source": [
        "student_list = [\"AA\", \"BB\", \"ABC\", \"DEF\", \"DOB\", \"IJK\"]\n",
        "result = [element for element in student_list if element.endswith('b') or element.endswith('B') and len(element) > 2]\n",
        "print(\"Elements ending with 'b' and having length greater than 2:\", result)"
      ],
      "metadata": {
        "colab": {
          "base_uri": "https://localhost:8080/"
        },
        "id": "ePoNebw5aJwG",
        "outputId": "6bb7252e-590f-418f-844e-304968139940"
      },
      "execution_count": null,
      "outputs": [
        {
          "output_type": "stream",
          "name": "stdout",
          "text": [
            "Elements ending with 'b' and having length greater than 2: ['DOB']\n"
          ]
        }
      ]
    },
    {
      "cell_type": "code",
      "source": [
        "student_tuple = (\"AA\", \"BB\", \"ABC\", \"DEF\", \"DOB\", \"IJK\")\n",
        "reversed_tuple = tuple(word[::-1] for word in student_tuple)\n",
        "print(\"Reversed Tuple:\", reversed_tuple)"
      ],
      "metadata": {
        "colab": {
          "base_uri": "https://localhost:8080/"
        },
        "id": "zhKwDVIzbFM0",
        "outputId": "2a737443-87e4-4a9f-ee42-97e57133ce8a"
      },
      "execution_count": null,
      "outputs": [
        {
          "output_type": "stream",
          "name": "stdout",
          "text": [
            "Reversed Tuple: ('AA', 'BB', 'CBA', 'FED', 'BOD', 'KJI')\n"
          ]
        }
      ]
    },
    {
      "cell_type": "code",
      "source": [
        "set1 = {1, 2, 3, 4, 5}\n",
        "set2 = {4, 5, 6, 7, 8, 9}\n",
        "set3 = {1, 6, 8, 3, 5}\n",
        "common_elements = set1 & set2 & set3\n",
        "print(\"Common elements:\", common_elements)"
      ],
      "metadata": {
        "colab": {
          "base_uri": "https://localhost:8080/"
        },
        "id": "lRc_1TdQbfBm",
        "outputId": "67231116-aabe-46d8-8a09-081a903a6ed5"
      },
      "execution_count": null,
      "outputs": [
        {
          "output_type": "stream",
          "name": "stdout",
          "text": [
            "Common elements: {5}\n"
          ]
        }
      ]
    },
    {
      "cell_type": "code",
      "source": [
        "unique_elements_set2 = set2 - set3\n",
        "unique_elements_set3 = set3 - set2\n",
        "print(\"Unique elements from Set 2: \",unique_elements_set2)\n",
        "print(\"Unique elements from Set 3: \",unique_elements_set3)"
      ],
      "metadata": {
        "colab": {
          "base_uri": "https://localhost:8080/"
        },
        "id": "ygCPr-h1cM7v",
        "outputId": "210a2316-c766-410f-c16a-5d1be8cc17a0"
      },
      "execution_count": null,
      "outputs": [
        {
          "output_type": "stream",
          "name": "stdout",
          "text": [
            "Unique elements from Set 2:  {9, 4, 7}\n",
            "Unique elements from Set 3:  {1, 3}\n"
          ]
        }
      ]
    },
    {
      "cell_type": "code",
      "source": [
        "if set2^set3==True:\n",
        "  print(\"The sets are disjoint\")\n",
        "else:\n",
        "  print(\"The sets are not disjoint\")"
      ],
      "metadata": {
        "colab": {
          "base_uri": "https://localhost:8080/"
        },
        "id": "6VzbY7A4dK4t",
        "outputId": "bdd1d214-187e-40f5-cb31-4b3c759f53d1"
      },
      "execution_count": null,
      "outputs": [
        {
          "output_type": "stream",
          "name": "stdout",
          "text": [
            "The sets are not disjoint\n"
          ]
        }
      ]
    },
    {
      "cell_type": "code",
      "source": [
        "set_of_sets = {frozenset({1, 2, 3}), frozenset({4, 5, 6}), frozenset({7, 8, 9, 10})}\n",
        "max_element = max({element for subset in set_of_sets for element in subset})\n",
        "min_element = min({element for subset in set_of_sets for element in subset})\n",
        "print(\"Maximum element:\", max_element)\n",
        "print(\"Minimum element:\", min_element)"
      ],
      "metadata": {
        "colab": {
          "base_uri": "https://localhost:8080/"
        },
        "id": "SQ3annFYFtDO",
        "outputId": "df869950-6a64-4426-ab7d-d19d2d34bae0"
      },
      "execution_count": null,
      "outputs": [
        {
          "output_type": "stream",
          "name": "stdout",
          "text": [
            "Maximum element: 10\n",
            "Minimum element: 1\n"
          ]
        }
      ]
    },
    {
      "cell_type": "code",
      "source": [
        "students = [{'name': 'ABC', 'grade': 90, 'age': 19},{'name': 'DEF', 'grade': 80, 'age': 20},{'name': 'HIJ', 'grade': 90, 'age': 21}]\n",
        "sorted_students = sorted(students, key=lambda x: (-x['grade'], x['name']))\n",
        "print(sorted_students)"
      ],
      "metadata": {
        "colab": {
          "base_uri": "https://localhost:8080/"
        },
        "id": "2Q32JjscVB3g",
        "outputId": "ee057ca4-eb5a-47df-98f0-bd2c46eaef80"
      },
      "execution_count": null,
      "outputs": [
        {
          "output_type": "stream",
          "name": "stdout",
          "text": [
            "[{'name': 'ABC', 'grade': 90, 'age': 19}, {'name': 'HIJ', 'grade': 90, 'age': 21}, {'name': 'DEF', 'grade': 80, 'age': 20}]\n"
          ]
        }
      ]
    },
    {
      "cell_type": "code",
      "source": [
        "def evaluate_expression(expression):\n",
        "    expression = expression.replace('x', '*')\n",
        "    result = eval(expression)\n",
        "    return result\n",
        "expression = \"8 + 5 * (3 - 2)\"\n",
        "result = evaluate_expression(expression)\n",
        "print(\"Result:\", result)"
      ],
      "metadata": {
        "colab": {
          "base_uri": "https://localhost:8080/"
        },
        "id": "o873jGtiY4xZ",
        "outputId": "c043263f-1000-4a3a-b71c-cc441fa3b3c2"
      },
      "execution_count": null,
      "outputs": [
        {
          "output_type": "stream",
          "name": "stdout",
          "text": [
            "Result: 13\n"
          ]
        }
      ]
    }
  ]
}